{
 "cells": [
  {
   "cell_type": "code",
   "execution_count": 10,
   "id": "ca6c2aed-a9d5-4394-a515-3e6ef3760cee",
   "metadata": {},
   "outputs": [
    {
     "name": "stdin",
     "output_type": "stream",
     "text": [
      "Type Subject:  This is Subject\n",
      "Type your Message Here:  This is a body.\n"
     ]
    },
    {
     "name": "stdout",
     "output_type": "stream",
     "text": [
      "✅ Email sent successfully!\n"
     ]
    }
   ],
   "source": [
    "import smtplib\n",
    "from email.mime.text import MIMEText\n",
    "from email.mime.multipart import MIMEMultipart\n",
    "\n",
    "# Your email and app password\n",
    "sender_email = \"rt191708@gmail.com\"\n",
    "receiver_email = \"raghavtiwari972003@gmail.com\"\n",
    "password = \"tlhp onmy bvzb slrp\"  # Use App Password if 2FA is enabled\n",
    "\n",
    "# Email content\n",
    "subject = input(\"Type Subject: \")\n",
    "body = input(\"Type your Message Here: \")\n",
    "\n",
    "# Create the email message\n",
    "message = MIMEMultipart()\n",
    "message[\"From\"] = sender_email\n",
    "message[\"To\"] = receiver_email\n",
    "message[\"Subject\"] = subject\n",
    "message.attach(MIMEText(body, \"plain\"))\n",
    "\n",
    "try:\n",
    "    # Connect to the Gmail SMTP server\n",
    "    server = smtplib.SMTP(\"smtp.gmail.com\", 587)\n",
    "    server.starttls()  # Secure the connection\n",
    "    server.login(sender_email, password)\n",
    "    server.sendmail(sender_email, receiver_email, message.as_string())\n",
    "    server.quit()\n",
    "    print(\"✅ Email sent successfully!\")\n",
    "except Exception as e:\n",
    "    print(f\"❌ Error: {e}\")\n"
   ]
  },
  {
   "cell_type": "code",
   "execution_count": null,
   "id": "225f05a4-ff6d-42b9-bb69-0b01c4163cdf",
   "metadata": {},
   "outputs": [],
   "source": []
  },
  {
   "cell_type": "code",
   "execution_count": null,
   "id": "ed7efe6d-8492-4d34-abaa-06d24f059b65",
   "metadata": {},
   "outputs": [],
   "source": []
  },
  {
   "cell_type": "code",
   "execution_count": null,
   "id": "578cdf6f-9712-4d7d-81c1-28cc1e4ce3c1",
   "metadata": {},
   "outputs": [],
   "source": []
  },
  {
   "cell_type": "code",
   "execution_count": null,
   "id": "60c8851f-2a0c-4f15-aa5f-22a24fd18477",
   "metadata": {},
   "outputs": [],
   "source": []
  }
 ],
 "metadata": {
  "kernelspec": {
   "display_name": "Python 3 (ipykernel)",
   "language": "python",
   "name": "python3"
  },
  "language_info": {
   "codemirror_mode": {
    "name": "ipython",
    "version": 3
   },
   "file_extension": ".py",
   "mimetype": "text/x-python",
   "name": "python",
   "nbconvert_exporter": "python",
   "pygments_lexer": "ipython3",
   "version": "3.12.7"
  }
 },
 "nbformat": 4,
 "nbformat_minor": 5
}
